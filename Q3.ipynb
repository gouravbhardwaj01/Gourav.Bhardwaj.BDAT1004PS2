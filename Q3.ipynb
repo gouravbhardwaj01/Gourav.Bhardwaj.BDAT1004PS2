{
 "cells": [
  {
   "cell_type": "markdown",
   "id": "2f77caec",
   "metadata": {},
   "source": [
    "## Question 3\n",
    "\n",
    "\n",
    "Write a class named Marsupial that can be used as shown below:\n",
    ">>> m = Marsupial()\n",
    ">>> m.put_in_pouch('doll')\n",
    ">>> m.put_in_pouch('firetruck')\n",
    ">>> m.put_in_pouch('kitten')\n",
    ">>> m.pouch_contents()\n",
    "['doll', 'firetruck', 'kitten']\n",
    "Now write a class named Kangaroo as a subclass of Marsupial that inherits all the\n",
    "attributes of Marsupial and also:\n",
    "a. extends the Marsupial __init__ constructor to take, as input, the\n",
    "coordinates x and y of the Kangaroo object,\n",
    "b. supports method jump that takes number values dx and dy as input and\n",
    "moves the kangaroo by dx units along the x-axis and by dy units along the yaxis, and\n",
    "c. overloads the __str__ operator so it behaves as shown below.\n",
    ">>> k = Kangaroo(0,0)\n",
    ">>> print(k)\n",
    "I am a Kangaroo located at coordinates (0,0)\n",
    ">>> k.put_in_pouch('doll')\n",
    ">>> k.put_in_pouch('firetruck')\n",
    ">>> k.put_in_pouch('kitten')\n",
    ">>> k.pouch_contents()\n",
    "['doll', 'firetruck', 'kitten']\n",
    ">>> k.jump(1,0)\n",
    ">>> k.jump(1,0)\n",
    ">>> k.jump(1,0)\n",
    ">>> print(k)\n",
    "I am a Kangaroo located at coordinates (3,0)"
   ]
  },
  {
   "cell_type": "code",
   "execution_count": 1,
   "id": "8af6e031",
   "metadata": {},
   "outputs": [
    {
     "name": "stdout",
     "output_type": "stream",
     "text": [
      "['doll', 'firetruck', 'kitten']\n",
      "['doll', 'firetruck', 'kitten']\n",
      "I am a Kangaroo located at coordinates (3,0)\n"
     ]
    }
   ],
   "source": [
    "class Marsupial:# Base class\n",
    "    def __init__(self):\n",
    "        self.items=\"\"\n",
    "        self.pouch=[]\n",
    "    def put_in_pouch(self,items):\n",
    "        self.pouch.append(items)\n",
    "    def pouch_contents(self):\n",
    "        print(self.pouch)\n",
    "class Kangaroo(Marsupial):# Kangaroo inheriting Marsupial as base/parent class\n",
    "    def __init__(self):\n",
    "        self.x=0;\n",
    "        self.y=0;\n",
    "        Marsupial.__init__(self)  # when initializing the child class we also need to initialize the base class \n",
    "    def jump(self,x1,y1):\n",
    "        self.x=self.x+x1\n",
    "        self.y=self.y+y1\n",
    "    def __str__(self):            # retuns the string representation of the object and when print() is used with object\n",
    "        return f\"I am a Kangaroo located at coordinates ({self.x},{self.y})\"\n",
    "obj=Marsupial()\n",
    "obj.put_in_pouch(\"doll\")\n",
    "obj.put_in_pouch(\"firetruck\")\n",
    "obj.put_in_pouch(\"kitten\")\n",
    "obj.pouch_contents()\n",
    "k=Kangaroo()\n",
    "k.put_in_pouch(\"doll\")\n",
    "k.put_in_pouch(\"firetruck\")\n",
    "k.put_in_pouch(\"kitten\")\n",
    "k.pouch_contents()\n",
    "k.jump(1,0)\n",
    "k.jump(1,0)\n",
    "k.jump(1,0)\n",
    "print(k)"
   ]
  },
  {
   "cell_type": "code",
   "execution_count": null,
   "id": "989652ac",
   "metadata": {},
   "outputs": [],
   "source": []
  }
 ],
 "metadata": {
  "kernelspec": {
   "display_name": "Python 3 (ipykernel)",
   "language": "python",
   "name": "python3"
  },
  "language_info": {
   "codemirror_mode": {
    "name": "ipython",
    "version": 3
   },
   "file_extension": ".py",
   "mimetype": "text/x-python",
   "name": "python",
   "nbconvert_exporter": "python",
   "pygments_lexer": "ipython3",
   "version": "3.9.7"
  }
 },
 "nbformat": 4,
 "nbformat_minor": 5
}
