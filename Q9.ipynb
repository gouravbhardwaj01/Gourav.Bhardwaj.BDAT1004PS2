{
 "cells": [
  {
   "cell_type": "markdown",
   "id": "58a4d927",
   "metadata": {},
   "source": [
    "## Question 9"
   ]
  },
  {
   "cell_type": "code",
   "execution_count": 1,
   "id": "a791beb8",
   "metadata": {},
   "outputs": [
    {
     "name": "stdout",
     "output_type": "stream",
     "text": [
      "['THE', 'QUICK', 'BROWN', 'FOX', 'JUMPS', 'OVER', 'THE', 'LAZY', 'DOG']\n",
      "['the', 'quick', 'brown', 'fox', 'jumps', 'over', 'the', 'lazy', 'dog']\n",
      "[3, 5, 5, 3, 5, 4, 3, 4, 3]\n",
      "[['THE', 'the', 3], ['QUICK', 'quick', 5], ['BROWN', 'brown', 5], ['FOX', 'fox', 3], ['JUMPS', 'jumps', 5], ['OVER', 'over', 4], ['THE', 'the', 3], ['LAZY', 'lazy', 4], ['DOG', 'dog', 3]]\n",
      "['quick', 'brown', 'jumps', 'over', 'lazy']\n"
     ]
    }
   ],
   "source": [
    "words = ['The', 'quick', 'brown', 'fox', 'jumps', 'over', 'the', 'lazy', 'dog']\n",
    "\n",
    "def upper(words):\n",
    "    upper_case_list = []\n",
    "    for word in words:\n",
    "        upper_case_list.append(word.upper())\n",
    "    return upper_case_list\n",
    "\n",
    "def lower(words):\n",
    "    lower_case_list = []\n",
    "    for word in words:\n",
    "        lower_case_list.append(word.lower())\n",
    "    return lower_case_list\n",
    "\n",
    "def length_of_words(words):\n",
    "    word_length_list = []\n",
    "    for word in words:\n",
    "        word_length_list.append(len(word))\n",
    "    return word_length_list\n",
    "\n",
    "def upper_lower_length_of_words(words):\n",
    "    final_list = []\n",
    "    upper_lower_length_of_words_list = []\n",
    "    for word in words:\n",
    "        upper_lower_length_of_words_list.clear()\n",
    "        upper_lower_length_of_words_list.append(word.upper())\n",
    "        upper_lower_length_of_words_list.append (word.lower())\n",
    "        upper_lower_length_of_words_list.append (len(word))\n",
    "        new_list = upper_lower_length_of_words_list.copy()\n",
    "        final_list.append(new_list)\n",
    "    return final_list\n",
    "\n",
    "def check_word_length(words):\n",
    "    word_length = []\n",
    "    for word in words:\n",
    "        if len(word) > 3:\n",
    "            word_length.append(word)\n",
    "    return word_length\n",
    "\n",
    "print(upper(words))\n",
    "print(lower(words))\n",
    "print(length_of_words(words))\n",
    "print(upper_lower_length_of_words(words))\n",
    "print(check_word_length(words))"
   ]
  },
  {
   "cell_type": "code",
   "execution_count": null,
   "id": "4d526b12",
   "metadata": {},
   "outputs": [],
   "source": []
  }
 ],
 "metadata": {
  "kernelspec": {
   "display_name": "Python 3 (ipykernel)",
   "language": "python",
   "name": "python3"
  },
  "language_info": {
   "codemirror_mode": {
    "name": "ipython",
    "version": 3
   },
   "file_extension": ".py",
   "mimetype": "text/x-python",
   "name": "python",
   "nbconvert_exporter": "python",
   "pygments_lexer": "ipython3",
   "version": "3.9.7"
  }
 },
 "nbformat": 4,
 "nbformat_minor": 5
}
