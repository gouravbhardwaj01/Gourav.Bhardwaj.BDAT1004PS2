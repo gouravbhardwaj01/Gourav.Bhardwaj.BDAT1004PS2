{
 "cells": [
  {
   "cell_type": "markdown",
   "id": "45b02aa9",
   "metadata": {},
   "source": [
    "## Question 1"
   ]
  },
  {
   "cell_type": "code",
   "execution_count": 12,
   "id": "0bf82324",
   "metadata": {},
   "outputs": [
    {
     "name": "stdout",
     "output_type": "stream",
     "text": [
      "2\n",
      "4\n",
      "6\n",
      "6\n"
     ]
    }
   ],
   "source": [
    "a=0\n",
    "\n",
    "def b():\n",
    "    global a\n",
    "    a = c(a)\n",
    "    return a\n",
    "\n",
    "def c(a):\n",
    "    return a + 2\n",
    "\n",
    "# >>> b()\n",
    "# >>> b()\n",
    "# >>> b()\n",
    "# >>> a\n",
    "\n",
    "print(b())\n",
    "print(b())\n",
    "print(b())\n",
    "print(a)\n"
   ]
  },
  {
   "cell_type": "markdown",
   "id": "7375f01f",
   "metadata": {},
   "source": [
    "In the first b() call the global a is passed to c() from which the value of a becomes 2 and hence b() returns 2.\n",
    "The second b() follows the same process and the value \"a\" becomes 4.\n",
    "The same thing happened in the 3rd b(). The value of a becomes 6.\n",
    "As the a used in b() was declared global so the value change of a is made to the global a. Hence the final value of a becomes 6."
   ]
  }
 ],
 "metadata": {
  "kernelspec": {
   "display_name": "Python 3 (ipykernel)",
   "language": "python",
   "name": "python3"
  },
  "language_info": {
   "codemirror_mode": {
    "name": "ipython",
    "version": 3
   },
   "file_extension": ".py",
   "mimetype": "text/x-python",
   "name": "python",
   "nbconvert_exporter": "python",
   "pygments_lexer": "ipython3",
   "version": "3.9.7"
  }
 },
 "nbformat": 4,
 "nbformat_minor": 5
}
