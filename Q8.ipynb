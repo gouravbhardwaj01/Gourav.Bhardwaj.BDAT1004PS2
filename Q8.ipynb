{
 "cells": [
  {
   "cell_type": "markdown",
   "id": "3a1fb387",
   "metadata": {},
   "source": [
    "## Question 8"
   ]
  },
  {
   "cell_type": "markdown",
   "id": "7433e3da",
   "metadata": {},
   "source": [
    "a) All the temperature data.\n",
    "\n",
    "%%sql\n",
    "SELECT Temperature FROM <table_name>;"
   ]
  },
  {
   "cell_type": "markdown",
   "id": "e465836b",
   "metadata": {},
   "source": [
    "b) All the cities, but without repetition.\n",
    "\n",
    "%%sql\n",
    "SELECT DISTINCT City FROM <table_name>;"
   ]
  },
  {
   "cell_type": "markdown",
   "id": "c1c34e5c",
   "metadata": {},
   "source": [
    "c) All the records for India.\n",
    "\n",
    "%%sql\n",
    "SELECT * FROM <table_name>\n",
    "WHERE Country='India';"
   ]
  },
  {
   "cell_type": "markdown",
   "id": "5b911c71",
   "metadata": {},
   "source": [
    "d) All the Fall records.\n",
    "\n",
    "%%sql\n",
    "SELECT * FROM <table_name>\n",
    "WHERE Season='Fall';"
   ]
  },
  {
   "cell_type": "markdown",
   "id": "c69fe18f",
   "metadata": {},
   "source": [
    "e) The city, country, and season for which the average rainfall is between 200\n",
    "and 400 millimeters.\n",
    "\n",
    "%%sql\n",
    "SELECT City, Country, Season FROM <table_name>\n",
    "WHERE AVG(Rainfall) BETWEEN 200 AND 400;"
   ]
  },
  {
   "cell_type": "markdown",
   "id": "4eec930b",
   "metadata": {},
   "source": [
    "f) The city and country for which the average Fall temperature is above 20\n",
    "degrees, in increasing temperature order.\n",
    "\n",
    "%%sql\n",
    "SELECT City, Country FROM <table_name>\n",
    "where Season = 'Fall' and Temperature > 20\n",
    "ORDER BY Temperature ASC;"
   ]
  },
  {
   "cell_type": "markdown",
   "id": "208f05aa",
   "metadata": {},
   "source": [
    "g) The total annual rainfall for Cairo.\n",
    "\n",
    "%%sql\n",
    "SELECT sum(RainFall) from <table_name>\n",
    "where City = 'Cairo';"
   ]
  },
  {
   "cell_type": "markdown",
   "id": "d48e4db6",
   "metadata": {},
   "source": [
    "h) The total rainfall for each season.\n",
    "\n",
    "%%sql\n",
    "SELECT Season, sum(RainFall) from <table_name>\n",
    "group by Season;"
   ]
  }
 ],
 "metadata": {
  "kernelspec": {
   "display_name": "Python 3 (ipykernel)",
   "language": "python",
   "name": "python3"
  },
  "language_info": {
   "codemirror_mode": {
    "name": "ipython",
    "version": 3
   },
   "file_extension": ".py",
   "mimetype": "text/x-python",
   "name": "python",
   "nbconvert_exporter": "python",
   "pygments_lexer": "ipython3",
   "version": "3.9.7"
  }
 },
 "nbformat": 4,
 "nbformat_minor": 5
}
