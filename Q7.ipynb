{
 "cells": [
  {
   "cell_type": "markdown",
   "id": "d716932d",
   "metadata": {},
   "source": [
    "## Question 7\n",
    "\n",
    "Implement recursive function webdir() that takes as input: a URL (as a string) and\n",
    "non-negative integers depth and indent. Your function should visit every web\n",
    "page reachable from the starting URL web page in depth clicks or less, and print\n",
    "each web page's URL. As shown below, indentation, specified by indent, should\n",
    "be used to indicate the depth of a URL."
   ]
  },
  {
   "cell_type": "code",
   "execution_count": 18,
   "id": "c166733c",
   "metadata": {},
   "outputs": [],
   "source": [
    "from urllib.parse import urljoin\n",
    "from urllib.request import urlopen\n",
    "from html.parser import HTMLParser\n",
    "\n",
    "class Collector(HTMLParser): #collects hyperlink \n",
    "\n",
    "    def __init__(self, url): #initializes parser, the url, and a list\n",
    "        HTMLParser.__init__(self)\n",
    "        self.url = url\n",
    "        self.links = []\n",
    "\n",
    "    def handle_starttag(self, tag, attrs): #collects hyperlink URLs in their absolute format\n",
    "        if tag == 'a':\n",
    "            for attr in attrs:\n",
    "                if attr[0] == 'href':\n",
    "                    # construct absolute URL\n",
    "                    absolute = urljoin(self.url, attr[1])\n",
    "                    if absolute[:4] == 'http':\n",
    "                        self.links.append(absolute)\n",
    "                        \n",
    "    def getLinks(self): #'returns hyperlinks URLs in their absolute format'\n",
    "        return self.links"
   ]
  },
  {
   "cell_type": "code",
   "execution_count": 19,
   "id": "b8f0d554",
   "metadata": {},
   "outputs": [],
   "source": [
    "def webdir(url, depth, indent):\n",
    "    #'Recursive method to find the list of links based on depth value'\n",
    "    \n",
    "    try:\n",
    "        depth_value = int(depth)\n",
    "        indent_value = int(indent)\n",
    "        \n",
    "        if depth_value < 0 or indent_value < 0:      \n",
    "            raise ValueError\n",
    "            \n",
    "        resource = urlopen(url)\n",
    "        content = resource.read().decode()\n",
    "        collector = Collector(url)\n",
    "        collector.feed(content)\n",
    "        links = collector.getLinks()                #Gets all the links present in a URL\n",
    "\n",
    "        if indent_value == 0:\n",
    "            print('{}'.format(url))\n",
    "\n",
    "        indent_value += 4\n",
    "        depth_value = depth_value-1\n",
    "        \n",
    "        if depth_value >= 0:\n",
    "            for link in links:                          #Loops all the links\n",
    "                print('{}{}'.format(indent_value*' ', link), end = '\\n')\n",
    "                if (depth_value) > 0: \n",
    "                    webdir(link, depth_value, indent_value)          \n",
    "                \n",
    "    except ValueError:\n",
    "        print(\"Enter a correct value for depth or indent\")"
   ]
  },
  {
   "cell_type": "code",
   "execution_count": 20,
   "id": "d45bcc08",
   "metadata": {},
   "outputs": [
    {
     "name": "stdout",
     "output_type": "stream",
     "text": [
      "http://reed.cs.depaul.edu/lperkovic/one.html\n",
      "    http://reed.cs.depaul.edu/lperkovic/two.html\n",
      "        http://reed.cs.depaul.edu/lperkovic/four.html\n",
      "    http://reed.cs.depaul.edu/lperkovic/three.html\n",
      "        http://reed.cs.depaul.edu/lperkovic/four.html\n"
     ]
    }
   ],
   "source": [
    "webdir('http://reed.cs.depaul.edu/lperkovic/one.html', 2, 0)"
   ]
  },
  {
   "cell_type": "code",
   "execution_count": null,
   "id": "5c6ec78e",
   "metadata": {},
   "outputs": [],
   "source": []
  }
 ],
 "metadata": {
  "kernelspec": {
   "display_name": "Python 3 (ipykernel)",
   "language": "python",
   "name": "python3"
  },
  "language_info": {
   "codemirror_mode": {
    "name": "ipython",
    "version": 3
   },
   "file_extension": ".py",
   "mimetype": "text/x-python",
   "name": "python",
   "nbconvert_exporter": "python",
   "pygments_lexer": "ipython3",
   "version": "3.9.7"
  }
 },
 "nbformat": 4,
 "nbformat_minor": 5
}
