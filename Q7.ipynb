{
 "cells": [
  {
   "cell_type": "markdown",
   "id": "d716932d",
   "metadata": {},
   "source": [
    "## Question 7"
   ]
  },
  {
   "cell_type": "code",
   "execution_count": 13,
   "id": "c166733c",
   "metadata": {},
   "outputs": [],
   "source": [
    "from bs4 import BeautifulSoup\n",
    "import requests\n",
    "\n",
    "urls=[\"one.html\"]\n",
    "\n",
    "site = \"http://reed.cs.depaul.edu/lperkovic/csc242/test4.html\"\n",
    "url = 'one.html'\n",
    "x = 0\n",
    "def webdir(url,depth):\n",
    "        r = requests.get (site+url)\n",
    "\n",
    "        s = BeautifulSoup (r.text, \"html.parser\")\n",
    "        for i in  s.find_all (\"a\"):\n",
    "            global x\n",
    "            if x < depth:\n",
    "                x = x+1\n",
    "                url = i.attrs['href']\n",
    "                urls.append(url)\n",
    "                webdir(url,depth)\n",
    "            x = 0"
   ]
  },
  {
   "cell_type": "code",
   "execution_count": 11,
   "id": "6efdc49b",
   "metadata": {},
   "outputs": [],
   "source": [
    "webdir(url,2)"
   ]
  }
 ],
 "metadata": {
  "kernelspec": {
   "display_name": "Python 3 (ipykernel)",
   "language": "python",
   "name": "python3"
  },
  "language_info": {
   "codemirror_mode": {
    "name": "ipython",
    "version": 3
   },
   "file_extension": ".py",
   "mimetype": "text/x-python",
   "name": "python",
   "nbconvert_exporter": "python",
   "pygments_lexer": "ipython3",
   "version": "3.9.7"
  }
 },
 "nbformat": 4,
 "nbformat_minor": 5
}
